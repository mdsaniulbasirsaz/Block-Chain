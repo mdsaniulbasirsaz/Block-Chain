{
 "cells": [
  {
   "cell_type": "code",
   "execution_count": 31,
   "metadata": {},
   "outputs": [
    {
     "name": "stdout",
     "output_type": "stream",
     "text": [
      "All signatures verified: True\n",
      "Signed prescriptions saved to 'signed_prescriptions.json'\n",
      "All loaded signatures verified: True\n"
     ]
    }
   ],
   "source": [
    "import pandas as pd\n",
    "import random\n",
    "from datetime import datetime, timedelta\n",
    "from cryptography.hazmat.primitives.asymmetric import dsa\n",
    "from cryptography.hazmat.primitives import hashes\n",
    "import json\n",
    "\n",
    "# Step 1: Generate a large dataset\n",
    "def generate_prescription_data(num_records):\n",
    "    doctors = [\"Dr. Ahsan Habib\", \"Dr. Sarah Khan\", \"Dr. John Doe\"]\n",
    "    patients = [f\"Patient_{i}\" for i in range(1, num_records + 1)]\n",
    "    medicines = [\n",
    "        {\"name\": \"Paracetamol\", \"dose\": \"100mg\", \"frequency\": \"3 times a day\"},\n",
    "        {\"name\": \"Amoxicillin\", \"dose\": \"250mg\", \"frequency\": \"1 times a day\"},\n",
    "        {\"name\": \"Ibuprofen\", \"dose\": \"100mg\", \"frequency\": \"2 times a day\"},\n",
    "        {\"name\": \"Metformin\", \"dose\": \"500mg\", \"frequency\": \"2 times a day\"},\n",
    "        {\"name\": \"Atorvastatin\", \"dose\": \"10mg\", \"frequency\": \"1 times a day\"},\n",
    "        {\"name\": \"Omeprazole\", \"dose\": \"20mg\", \"frequency\": \"1 times a day\"},\n",
    "        {\"name\": \"Amlodipine\", \"dose\": \"5mg\", \"frequency\": \"1 times a day\"},\n",
    "        {\"name\": \"Losartan\", \"dose\": \"50mg\", \"frequency\": \"1 times a day\"},\n",
    "        {\"name\": \"Gabapentin\", \"dose\": \"300mg\", \"frequency\": \"3 times a day\"},\n",
    "        {\"name\": \"Levothyroxine\", \"dose\": \"50mcg\", \"frequency\": \"1 times a day\"},\n",
    "        {\"name\": \"Sertraline\", \"dose\": \"50mg\", \"frequency\": \"1 times a day\"},\n",
    "        {\"name\": \"Albuterol\", \"dose\": \"90mcg\", \"frequency\": \"as needed\"},\n",
    "        {\"name\": \"Prednisone\", \"dose\": \"10mg\", \"frequency\": \"1 times a day\"},\n",
    "        {\"name\": \"Cetirizine\", \"dose\": \"10mg\", \"frequency\": \"1 times a day\"},\n",
    "        {\"name\": \"Lisinopril\", \"dose\": \"10mg\", \"frequency\": \"1 times a day\"},\n",
    "        {\"name\": \"Simvastatin\", \"dose\": \"20mg\", \"frequency\": \"1 times a day\"},\n",
    "        {\"name\": \"Furosemide\", \"dose\": \"40mg\", \"frequency\": \"1 times a day\"},\n",
    "        {\"name\": \"Doxycycline\", \"dose\": \"100mg\", \"frequency\": \"2 times a day\"},\n",
    "        {\"name\": \"Clonazepam\", \"dose\": \"0.5mg\", \"frequency\": \"2 times a day\"},\n",
    "        {\"name\": \"Tramadol\", \"dose\": \"50mg\", \"frequency\": \"2 times a day\"},\n",
    "        {\"name\": \"Ciprofloxacin\", \"dose\": \"500mg\", \"frequency\": \"2 times a day\"},\n",
    "        {\"name\": \"Hydrochlorothiazide\", \"dose\": \"25mg\", \"frequency\": \"1 times a day\"},\n",
    "        {\"name\": \"Metoprolol\", \"dose\": \"50mg\", \"frequency\": \"2 times a day\"},\n",
    "        {\"name\": \"Ranitidine\", \"dose\": \"150mg\", \"frequency\": \"2 times a day\"},\n",
    "        {\"name\": \"Warfarin\", \"dose\": \"5mg\", \"frequency\": \"1 times a day\"},\n",
    "        {\"name\": \"Morphine\", \"dose\": \"10mg\", \"frequency\": \"as needed\"},\n",
    "        {\"name\": \"Diazepam\", \"dose\": \"5mg\", \"frequency\": \"2 times a day\"},\n",
    "        {\"name\": \"Insulin\", \"dose\": \"varies\", \"frequency\": \"as needed\"},\n",
    "        {\"name\": \"Pantoprazole\", \"dose\": \"40mg\", \"frequency\": \"1 times a day\"},\n",
    "        {\"name\": \"Naproxen\", \"dose\": \"250mg\", \"frequency\": \"2 times a day\"},\n",
    "        {\"name\": \"Duloxetine\", \"dose\": \"30mg\", \"frequency\": \"1 times a day\"},\n",
    "        {\"name\": \"Bupropion\", \"dose\": \"150mg\", \"frequency\": \"1 times a day\"},\n",
    "        {\"name\": \"Methylprednisolone\", \"dose\": \"4mg\", \"frequency\": \"1 times a day\"},\n",
    "        {\"name\": \"Erythromycin\", \"dose\": \"500mg\", \"frequency\": \"4 times a day\"},\n",
    "        {\"name\": \"Risperidone\", \"dose\": \"2mg\", \"frequency\": \"1 times a day\"},\n",
    "        {\"name\": \"Loratadine\", \"dose\": \"10mg\", \"frequency\": \"1 times a day\"},\n",
    "        {\"name\": \"Carvedilol\", \"dose\": \"6.25mg\", \"frequency\": \"2 times a day\"},\n",
    "        {\"name\": \"Tamsulosin\", \"dose\": \"0.4mg\", \"frequency\": \"1 times a day\"},\n",
    "        {\"name\": \"Propranolol\", \"dose\": \"40mg\", \"frequency\": \"2 times a day\"},\n",
    "        {\"name\": \"Fluoxetine\", \"dose\": \"20mg\", \"frequency\": \"1 times a day\"},\n",
    "        {\"name\": \"Methotrexate\", \"dose\": \"10mg\", \"frequency\": \"weekly\"},\n",
    "        {\"name\": \"Sitagliptin\", \"dose\": \"100mg\", \"frequency\": \"1 times a day\"},\n",
    "        {\"name\": \"Montelukast\", \"dose\": \"10mg\", \"frequency\": \"1 times a day\"},\n",
    "        {\"name\": \"Glimepiride\", \"dose\": \"2mg\", \"frequency\": \"1 times a day\"},\n",
    "        {\"name\": \"Hydroxyzine\", \"dose\": \"25mg\", \"frequency\": \"1 times a day\"},\n",
    "        {\"name\": \"Escitalopram\", \"dose\": \"10mg\", \"frequency\": \"1 times a day\"},\n",
    "        {\"name\": \"Azithromycin\", \"dose\": \"500mg\", \"frequency\": \"1 times a day\"},\n",
    "        {\"name\": \"Famotidine\", \"dose\": \"20mg\", \"frequency\": \"2 times a day\"},\n",
    "        {\"name\": \"Bisoprolol\", \"dose\": \"5mg\", \"frequency\": \"1 times a day\"},\n",
    "        {\"name\": \"Dapagliflozin\", \"dose\": \"10mg\", \"frequency\": \"1 times a day\"},\n",
    "        {\"name\": \"Empagliflozin\", \"dose\": \"10mg\", \"frequency\": \"1 times a day\"},\n",
    "        {\"name\": \"Rosuvastatin\", \"dose\": \"10mg\", \"frequency\": \"1 times a day\"}\n",
    "    ]\n",
    "    \n",
    "    data = []\n",
    "    for i in range(num_records):\n",
    "        doctor = random.choice(doctors)\n",
    "        patient = patients[i]\n",
    "        age = random.randint(18, 80)\n",
    "        date = (datetime.now() - timedelta(days=random.randint(0, 365))).strftime('%Y-%m-%d')\n",
    "        medicine = random.choice(medicines)\n",
    "        remarks = random.choice([\"Take after food.\", \"Take before food.\", \"Avoid alcohol.\"])\n",
    "        \n",
    "        record = {\n",
    "            \"doctor\": doctor,\n",
    "            \"patient\": patient,\n",
    "            \"age\": age,\n",
    "            \"date\": date,\n",
    "            \"medicine\": medicine,\n",
    "            \"remarks\": remarks\n",
    "        }\n",
    "        data.append(record)\n",
    "    \n",
    "    return pd.DataFrame(data)\n",
    "\n",
    "# Step 2: Generate DSA Key Pair\n",
    "private_key = dsa.generate_private_key(key_size=2048)\n",
    "public_key = private_key.public_key()\n",
    "\n",
    "# Step 3: Generate a large dataset with 10,000 records\n",
    "large_dataset = generate_prescription_data(10000)\n",
    "\n",
    "# Step 4: Convert each row to JSON string\n",
    "json_records = large_dataset.to_dict(orient='records')\n",
    "\n",
    "# Step 5: Sign each record\n",
    "signed_records = []\n",
    "for record in json_records:\n",
    "    record_bytes = json.dumps(record, indent=4).encode()\n",
    "    signature = private_key.sign(\n",
    "        record_bytes,\n",
    "        hashes.SHA256()\n",
    "    )\n",
    "    signed_records.append({\n",
    "        \"record\": record,\n",
    "        \"signature\": signature.hex()  # Store signature as hexadecimal string\n",
    "    })\n",
    "\n",
    "# Step 6: Verify signatures\n",
    "def verify_signature(record, signature_hex, public_key):\n",
    "    try:\n",
    "        signature = bytes.fromhex(signature_hex)  # Convert hex string back to bytes\n",
    "        public_key.verify(\n",
    "            signature,\n",
    "            json.dumps(record, indent=4).encode(),\n",
    "            hashes.SHA256()\n",
    "        )\n",
    "        return True\n",
    "    except:\n",
    "        return False\n",
    "\n",
    "# Test verification for all records\n",
    "verification_results = []\n",
    "for signed_record in signed_records:\n",
    "    is_valid = verify_signature(\n",
    "        signed_record[\"record\"],\n",
    "        signed_record[\"signature\"],\n",
    "        public_key\n",
    "    )\n",
    "    verification_results.append(is_valid)\n",
    "\n",
    "# Check if all signatures are valid\n",
    "all_valid = all(verification_results)\n",
    "print(\"All signatures verified:\", all_valid)\n",
    "\n",
    "# Step 7: Save signed records to a JSON file\n",
    "with open('signed_prescriptions.json', 'w') as f:\n",
    "    json.dump(signed_records, f, indent=4)\n",
    "\n",
    "print(\"Signed prescriptions saved to 'signed_prescriptions.json'\")\n",
    "\n",
    "# Step 8: Load signed records from file and verify\n",
    "with open('signed_prescriptions.json', 'r') as f:\n",
    "    loaded_signed_records = json.load(f)\n",
    "\n",
    "# Verify loaded records\n",
    "loaded_verification_results = []\n",
    "for loaded_record in loaded_signed_records:\n",
    "    is_valid = verify_signature(\n",
    "        loaded_record[\"record\"],\n",
    "        loaded_record[\"signature\"],\n",
    "        public_key\n",
    "    )\n",
    "    loaded_verification_results.append(is_valid)\n",
    "\n",
    "# Check if all loaded signatures are valid\n",
    "all_loaded_valid = all(loaded_verification_results)\n",
    "print(\"All loaded signatures verified:\", all_loaded_valid)"
   ]
  },
  {
   "cell_type": "code",
   "execution_count": 32,
   "metadata": {},
   "outputs": [
    {
     "name": "stdout",
     "output_type": "stream",
     "text": [
      "First record signature verified: True\n"
     ]
    }
   ],
   "source": [
    "# Verify the signature of a specific record (e.g., first record)\n",
    "first_record = signed_records[0]\n",
    "is_first_record_valid = verify_signature(\n",
    "    first_record[\"record\"],\n",
    "    first_record[\"signature\"],\n",
    "    public_key\n",
    ")\n",
    "\n",
    "print(f\"First record signature verified: {is_first_record_valid}\")"
   ]
  },
  {
   "cell_type": "code",
   "execution_count": 39,
   "metadata": {},
   "outputs": [
    {
     "name": "stdout",
     "output_type": "stream",
     "text": [
      "Record Details:\n",
      "{\n",
      "    \"doctor\": \"Dr. Ahsan Habib\",\n",
      "    \"patient\": \"Patient_101\",\n",
      "    \"age\": 46,\n",
      "    \"date\": \"2024-12-17\",\n",
      "    \"medicine\": {\n",
      "        \"name\": \"Dapagliflozin\",\n",
      "        \"dose\": \"10mg\",\n",
      "        \"frequency\": \"1 times a day\"\n",
      "    },\n",
      "    \"remarks\": \"Take before food.\"\n",
      "}\n",
      "Signature for record #100 verified: True\n"
     ]
    }
   ],
   "source": [
    "# Inspect and verify a specific record\n",
    "specific_record_index = 100  # Example: Check the 43rd record (index 42)\n",
    "specific_record = signed_records[specific_record_index]\n",
    "\n",
    "print(\"Record Details:\")\n",
    "print(json.dumps(specific_record[\"record\"], indent=4))\n",
    "\n",
    "is_specific_record_valid = verify_signature(\n",
    "    specific_record[\"record\"],\n",
    "    specific_record[\"signature\"],\n",
    "    public_key\n",
    ")\n",
    "\n",
    "print(f\"Signature for record #{specific_record_index} verified: {is_specific_record_valid}\")"
   ]
  },
  {
   "cell_type": "code",
   "execution_count": 42,
   "metadata": {},
   "outputs": [
    {
     "name": "stdout",
     "output_type": "stream",
     "text": [
      "Signature for modified record verified: False\n"
     ]
    }
   ],
   "source": [
    "# Modify a record's data to test signature verification failure\n",
    "modified_record = signed_records[0][\"record\"].copy()\n",
    "modified_record[\"medicine\"][\"name\"] = \"Dapagliflozin\"  # Change the medicine name\n",
    "\n",
    "is_modified_record_valid = verify_signature(\n",
    "    modified_record,\n",
    "    signed_records[0][\"signature\"],\n",
    "    public_key\n",
    ")\n",
    "\n",
    "print(f\"Signature for modified record verified: {is_modified_record_valid}\")  # Should print False"
   ]
  },
  {
   "cell_type": "code",
   "execution_count": 43,
   "metadata": {},
   "outputs": [
    {
     "name": "stdout",
     "output_type": "stream",
     "text": [
      "Verification with private key failed: 'cryptography.hazmat.bindings._rust.openssl.dsa.DSAPrivateKey' object has no attribute 'verify'\n"
     ]
    }
   ],
   "source": [
    "# Try to verify using the private key instead of the public key (should fail)\n",
    "try:\n",
    "    private_key.verify(\n",
    "        bytes.fromhex(signed_records[0][\"signature\"]),\n",
    "        json.dumps(signed_records[0][\"record\"], indent=4).encode(),\n",
    "        hashes.SHA256()\n",
    "    )\n",
    "    print(\"Verification with private key succeeded (unexpected)\")\n",
    "except Exception as e:\n",
    "    print(f\"Verification with private key failed: {e}\")  # Expected behavior"
   ]
  },
  {
   "cell_type": "code",
   "execution_count": 36,
   "metadata": {},
   "outputs": [
    {
     "name": "stdout",
     "output_type": "stream",
     "text": [
      "All timestamped signatures verified: True\n"
     ]
    }
   ],
   "source": [
    "import time\n",
    "\n",
    "# Add timestamp to each record before signing\n",
    "timestamped_signed_records = []\n",
    "for record in json_records:\n",
    "    record_with_timestamp = record.copy()\n",
    "    record_with_timestamp[\"timestamp\"] = int(time.time())  # Add current timestamp\n",
    "    \n",
    "    record_bytes = json.dumps(record_with_timestamp, indent=4).encode()\n",
    "    signature = private_key.sign(\n",
    "        record_bytes,\n",
    "        hashes.SHA256()\n",
    "    )\n",
    "    timestamped_signed_records.append({\n",
    "        \"record\": record_with_timestamp,\n",
    "        \"signature\": signature.hex()\n",
    "    })\n",
    "\n",
    "# Verify timestamped records\n",
    "def verify_timestamped_signature(record, signature_hex, public_key):\n",
    "    try:\n",
    "        signature = bytes.fromhex(signature_hex)\n",
    "        public_key.verify(\n",
    "            signature,\n",
    "            json.dumps(record, indent=4).encode(),\n",
    "            hashes.SHA256()\n",
    "        )\n",
    "        return True\n",
    "    except:\n",
    "        return False\n",
    "\n",
    "# Test verification for all timestamped records\n",
    "timestamped_verification_results = []\n",
    "for ts_record in timestamped_signed_records:\n",
    "    is_valid = verify_timestamped_signature(\n",
    "        ts_record[\"record\"],\n",
    "        ts_record[\"signature\"],\n",
    "        public_key\n",
    "    )\n",
    "    timestamped_verification_results.append(is_valid)\n",
    "\n",
    "all_ts_valid = all(timestamped_verification_results)\n",
    "print(\"All timestamped signatures verified:\", all_ts_valid)"
   ]
  },
  {
   "cell_type": "code",
   "execution_count": 37,
   "metadata": {},
   "outputs": [
    {
     "name": "stdout",
     "output_type": "stream",
     "text": [
      "Public key saved to 'public_key.pem'\n"
     ]
    }
   ],
   "source": [
    "# Save public key to a file\n",
    "from cryptography.hazmat.primitives import serialization\n",
    "\n",
    "with open('public_key.pem', 'wb') as f:\n",
    "    f.write(public_key.public_bytes(\n",
    "        encoding=serialization.Encoding.PEM,\n",
    "        format=serialization.PublicFormat.SubjectPublicKeyInfo\n",
    "    ))\n",
    "\n",
    "print(\"Public key saved to 'public_key.pem'\")"
   ]
  },
  {
   "cell_type": "code",
   "execution_count": 38,
   "metadata": {},
   "outputs": [
    {
     "name": "stdout",
     "output_type": "stream",
     "text": [
      "First record signature verified with loaded public key: False\n"
     ]
    }
   ],
   "source": [
    "# Load public key from file\n",
    "with open('public_key.pem', 'rb') as f:\n",
    "    loaded_public_key = serialization.load_pem_public_key(f.read())\n",
    "\n",
    "# Verify a record using the loaded public key\n",
    "first_record = signed_records[0]\n",
    "is_first_record_valid = verify_signature(\n",
    "    first_record[\"record\"],\n",
    "    first_record[\"signature\"],\n",
    "    loaded_public_key\n",
    ")\n",
    "\n",
    "print(f\"First record signature verified with loaded public key: {is_first_record_valid}\")"
   ]
  },
  {
   "cell_type": "code",
   "execution_count": 59,
   "metadata": {},
   "outputs": [
    {
     "name": "stdout",
     "output_type": "stream",
     "text": [
      "b'{\"age\":45,\"date\":\"2024-07-24\",\"doctor\":\"Dr. Sarah Khan\",\"medicine\":{\"dose\":\"40mg\",\"frequency\":\"2 times a day\",\"name\":\"Propranolol\"},\"patient\":\"Patient_45\",\"remarks\":\"Take before food.\"}'\n",
      "Signature verification failed!\n"
     ]
    }
   ],
   "source": [
    "from cryptography.hazmat.primitives import hashes\n",
    "from cryptography.hazmat.primitives.asymmetric import ec\n",
    "from cryptography.exceptions import InvalidSignature\n",
    "from cryptography.hazmat.primitives import serialization\n",
    "import json\n",
    "\n",
    "# Load the public key from PEM format\n",
    "public_key_pem = b\"\"\"-----BEGIN PUBLIC KEY-----\n",
    "MIIDRjCCAjkGByqGSM44BAEwggIsAoIBAQDQX5XzOr6deSc97Se0mFy7NFSKYIJi\n",
    "GA/Dsp2GqUxyydrpUzai7l4axNCDNBGYk/597dU4Uzoemyn/PSHAXIJbJYyb7Jcf\n",
    "gZB/0N9wCDkxfoX1KAZvLgR0ArZRzdooYbDeBrjR/Lp/7KNgiOMxgyhue8zb6pVW\n",
    "1RJjcVpv7A5nkDw82YfY7zuWxdqa99tGyVJTsQKAyaG0McdZdnP9rXnsSxFTFbKx\n",
    "xp7Kc0G1von9vJMCcVmEjxwmKrTum0oCJcZKqgicbjrJRHXCKIGyFTsotEJqLiv5\n",
    "4H3VwkCQ+AQ+bmQ2kRfk6DL6ibneE1sa2RpprCzqtOklSivM8KjZkD6PAiEA+4Jo\n",
    "Dd2suUrSFcdBR6D4y1vg3zuNzub7+5JJ10M+j0sCggEABg0b57+yr79ic1EG99vM\n",
    "el4dnKARCt9hTKArznv0iqJo3L6dVWcXasKdTbcb0gumvLxLJGxLvzqomkisbX6r\n",
    "uV3I0IuiwFqlEq9KGwbOs27KbwRMK23rlR1ePBAhUS2SQkNdcoB6ZBB5LVGDWOE2\n",
    "xuNsiEiPpIZFLctm2879SPqp+RZbUUzAkaERittMIOEp5K7MYvQBrtaln7klv0mW\n",
    "c7MU3K0oIOdZC7oqeoW4sowVs0mCgzrgV6eD1868kB5Ja8VGzqIevmHsvj3puswr\n",
    "ipGTBkFVjI+r8JllnFrcsTR9bDKKwtVvNQSJAeuHA05puvqfPve4gcrenEpZvYMN\n",
    "UAOCAQUAAoIBAHfEYbTQGR8kax43TEOLhUEAQZJFAjDkC5mHZqiiJ7dukuyujU2g\n",
    "TISqkqBFkoTBZH4xhZPWJMS9VCHGbYSkqfc5T5B0ShPbtyJ+W3vQs20koD5P7kSt\n",
    "glEBMttpjaVtQvujGxTCEF9mTNek6hkWVRxp+4zWfGva2eg3CYXgbE/6n5WTAcfU\n",
    "rAv3ZqY5ie3ks75A9CeWEhQGROnjvjhY9o44lUDFTPXR8p+hyuDKUnrrYiBr3Eaw\n",
    "ApFNEumhv71k1R4yDqtl+sFRJMT6yXuamsIi/v8b56EbsBh/YnLn+K4dw3r5zMv1\n",
    "D2AkD+oyEi/vEQl/HnfurU63hMFBR9VEYnA=\n",
    "-----END PUBLIC KEY-----\"\"\"\n",
    "\n",
    "# Deserialize the public key\n",
    "public_key = serialization.load_pem_public_key(public_key_pem)\n",
    "\n",
    "\n",
    "\n",
    "# Example record data\n",
    "record= {\n",
    "            \"doctor\": \"Dr. Sarah Khan\",\n",
    "            \"patient\": \"Patient_45\",\n",
    "            \"age\": 45,\n",
    "            \"date\": \"2024-07-24\",\n",
    "            \"medicine\": {\n",
    "                \"name\": \"Propranolol\",\n",
    "                \"dose\": \"40mg\",\n",
    "                \"frequency\": \"2 times a day\"\n",
    "            },\n",
    "            \"remarks\": \"Take before food.\"\n",
    "}\n",
    "\n",
    "# Serialize the record data to JSON (ensure consistent formatting)\n",
    "data = json.dumps(record, separators=(',', ':'), sort_keys=True).encode('utf-8')\n",
    "print(data)\n",
    "# Signature in hexadecimal format\n",
    "signature_hex = \"30450220395af3f1434ecf27a3a39c2cbd4b2309881f039a712aaa99bcd87f1912c9eb05022100c99fd591f8bde759a97b21b9ebc7af8ef2979988a3b6815419a13462e7754a45\"\n",
    "signature = bytes.fromhex(signature_hex)\n",
    "\n",
    "# Verify the signature\n",
    "try:\n",
    "    public_key.verify(\n",
    "        signature,\n",
    "        data,\n",
    "        hashes.SHA256() # Use ECDSA with SHA-256\n",
    "    )\n",
    "    print(\"Signature verified successfully!\")\n",
    "except InvalidSignature:\n",
    "    print(\"Signature verification failed!\")"
   ]
  }
 ],
 "metadata": {
  "kernelspec": {
   "display_name": "base",
   "language": "python",
   "name": "python3"
  },
  "language_info": {
   "codemirror_mode": {
    "name": "ipython",
    "version": 3
   },
   "file_extension": ".py",
   "mimetype": "text/x-python",
   "name": "python",
   "nbconvert_exporter": "python",
   "pygments_lexer": "ipython3",
   "version": "3.12.7"
  }
 },
 "nbformat": 4,
 "nbformat_minor": 2
}
