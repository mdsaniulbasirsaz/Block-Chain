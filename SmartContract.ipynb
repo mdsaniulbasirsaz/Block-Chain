{
 "cells": [
  {
   "cell_type": "code",
   "execution_count": 6,
   "metadata": {},
   "outputs": [
    {
     "name": "stdout",
     "output_type": "stream",
     "text": [
      "Connected: True\n"
     ]
    }
   ],
   "source": [
    "# Import necessary libraries\n",
    "from web3 import Web3\n",
    "import json\n",
    "\n",
    "# Connect to an Ethereum node (e.g., Infura)\n",
    "infura_url = 'https://mainnet.infura.io/v3/9fa167db732f4b0f83eea431c5edabbd'\n",
    "web3 = Web3(Web3.HTTPProvider(infura_url))\n",
    "\n",
    "# Check if connected\n",
    "print(f\"Connected: {web3.is_connected()}\")"
   ]
  },
  {
   "cell_type": "code",
   "execution_count": 15,
   "metadata": {},
   "outputs": [
    {
     "name": "stdout",
     "output_type": "stream",
     "text": [
      "Dummy ABI JSON with 1000 entries saved to dummy_abi.json\n"
     ]
    }
   ],
   "source": [
    "import json\n",
    "import random\n",
    "\n",
    "# Function to generate random function names\n",
    "def random_function_name():\n",
    "    verbs = [\"get\", \"set\", \"update\", \"fetch\", \"calculate\", \"remove\", \"check\", \"transfer\"]\n",
    "    nouns = [\"Balance\", \"Supply\", \"Data\", \"Token\", \"Amount\", \"Limit\", \"Count\", \"Rate\"]\n",
    "    return random.choice(verbs) + random.choice(nouns) + str(random.randint(1, 100))\n",
    "\n",
    "# Function to generate random function ABI\n",
    "def generate_dummy_abi(n=1000):\n",
    "    abi = []\n",
    "    for _ in range(n):\n",
    "        function_name = random_function_name()\n",
    "        abi_entry = {\n",
    "            \"constant\": random.choice([True, False]),\n",
    "            \"inputs\": [{\"name\": \"param1\", \"type\": \"uint256\"}] if random.choice([True, False]) else [],\n",
    "            \"name\": function_name,\n",
    "            \"outputs\": [{\"name\": \"\", \"type\": \"uint256\"}],\n",
    "            \"payable\": random.choice([True, False]),\n",
    "            \"stateMutability\": random.choice([\"view\", \"pure\", \"nonpayable\", \"payable\"]),\n",
    "            \"type\": \"function\"\n",
    "        }\n",
    "        abi.append(abi_entry)\n",
    "    return abi\n",
    "\n",
    "# Generate 1000 dummy ABI entries\n",
    "dummy_abi = generate_dummy_abi(1000)\n",
    "\n",
    "# Save to abi.json file\n",
    "file_path = \"dummy_abi.json\"\n",
    "with open(file_path, \"w\", encoding=\"utf-8\") as f:\n",
    "    json.dump(dummy_abi, f, indent=4)\n",
    "\n",
    "print(f\"Dummy ABI JSON with 1000 entries saved to {file_path}\")\n"
   ]
  },
  {
   "cell_type": "code",
   "execution_count": 16,
   "metadata": {},
   "outputs": [
    {
     "name": "stdout",
     "output_type": "stream",
     "text": [
      "File exists and is not empty.\n"
     ]
    }
   ],
   "source": [
    "import os\n",
    "\n",
    "file_path = r'C:\\Users\\saniu\\Machine Learning 2025\\Block Chain\\dummy_abi.json'\n",
    "\n",
    "if os.path.exists(file_path):\n",
    "    if os.path.getsize(file_path) > 0:\n",
    "        print(\"File exists and is not empty.\")\n",
    "    else:\n",
    "        print(\"Error: The file is empty!\")\n",
    "else:\n",
    "    print(\"Error: File not found!\")\n"
   ]
  },
  {
   "cell_type": "code",
   "execution_count": 20,
   "metadata": {},
   "outputs": [],
   "source": [
    "# Function to add an image\n",
    "def add_image(hash_value):\n",
    "    # Replace 'YOUR_PRIVATE_KEY' with your actual private key\n",
    "    private_key = 'YOUR_PRIVATE_KEY'\n",
    "    account = web3.eth.account.privateKeyToAccount(private_key)\n",
    "    nonce = web3.eth.get_transaction_count(account.address)\n",
    "    \n",
    "    tx = contract.functions.addImage(hash_value).build_transaction({\n",
    "        'chainId': 1,  # Mainnet chain ID\n",
    "        'gas': 2000000,\n",
    "        'gasPrice': web3.to_wei('50', 'gwei'),\n",
    "        'nonce': nonce,\n",
    "    })\n",
    "    \n",
    "    signed_tx = web3.eth.account.sign_transaction(tx, private_key)\n",
    "    tx_hash = web3.eth.send_raw_transaction(signed_tx.rawTransaction)\n",
    "    print(f\"Transaction hash: {web3.to_hex(tx_hash)}\")\n",
    "    return web3.to_hex(tx_hash)\n",
    "\n",
    "# Function to authenticate an image\n",
    "def authenticate_image(image_id, status):\n",
    "    private_key = 'YOUR_PRIVATE_KEY'\n",
    "    account = web3.eth.account.privateKeyToAccount(private_key)\n",
    "    nonce = web3.eth.get_transaction_count(account.address)\n",
    "    \n",
    "    tx = contract.functions.authenticateImage(image_id, status).build_transaction({\n",
    "        'chainId': 1,  # Mainnet chain ID\n",
    "        'gas': 2000000,\n",
    "        'gasPrice': web3.to_wei('50', 'gwei'),\n",
    "        'nonce': nonce,\n",
    "    })\n",
    "    \n",
    "    signed_tx = web3.eth.account.sign_transaction(tx, private_key)\n",
    "    tx_hash = web3.eth.send_raw_transaction(signed_tx.rawTransaction)\n",
    "    print(f\"Transaction hash: {web3.to_hex(tx_hash)}\")\n",
    "    return web3.to_hex(tx_hash)\n",
    "\n",
    "# Function to get image details\n",
    "def get_image(image_id):\n",
    "    return contract.functions.getImage(image_id).call()"
   ]
  },
  {
   "cell_type": "code",
   "execution_count": null,
   "metadata": {},
   "outputs": [],
   "source": [
    "# Example usage\n",
    "image_hash = \"QmXoypizjW3WknFiJnKLwHCnL72vedxjQkDDP1mXWo6uco\"\n",
    "tx_hash = add_image(image_hash)\n",
    "print(f\"Added image with hash: {image_hash}\")\n",
    "\n",
    "image_id = 1  # Assuming this is the ID of the added image\n",
    "authenticate_image(image_id, True)\n",
    "print(\"Authenticated the image.\")\n",
    "\n",
    "image_details = get_image(image_id)\n",
    "print(f\"Image details: Hash={image_details[0]}, Owner={image_details[1]}, Authenticated={image_details[2]}\")"
   ]
  }
 ],
 "metadata": {
  "kernelspec": {
   "display_name": "base",
   "language": "python",
   "name": "python3"
  },
  "language_info": {
   "codemirror_mode": {
    "name": "ipython",
    "version": 3
   },
   "file_extension": ".py",
   "mimetype": "text/x-python",
   "name": "python",
   "nbconvert_exporter": "python",
   "pygments_lexer": "ipython3",
   "version": "3.12.7"
  }
 },
 "nbformat": 4,
 "nbformat_minor": 2
}
